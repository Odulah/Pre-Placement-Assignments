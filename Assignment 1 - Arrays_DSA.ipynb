{
 "cells": [
  {
   "cell_type": "markdown",
   "id": "d2f94312",
   "metadata": {},
   "source": [
    "### Assignment 1 - Arrays (Deadline: 31 May 2023)"
   ]
  },
  {
   "cell_type": "markdown",
   "id": "9facab30",
   "metadata": {},
   "source": [
    "### Submitted by Aadil Maqbool."
   ]
  },
  {
   "cell_type": "markdown",
   "id": "af6b93a0",
   "metadata": {},
   "source": [
    "\n",
    "💡 **Q1.** Given an array of integers nums and an integer target, return indices of the two numbers such that they add up to target.\n",
    "\n",
    "You may assume that each input would have exactly one solution, and you may not use the same element twice.\n",
    "\n",
    "You can return the answer in any order.\n",
    "\n",
    "**Example:**\n",
    "Input: nums = [2,7,11,15], target = 9\n",
    "Output0 [0,1]\n",
    "\n",
    "**Explanation:** Because nums[0] + nums[1] == 9, we return [0, 1]\n",
    "\n"
   ]
  },
  {
   "cell_type": "code",
   "execution_count": 1,
   "id": "f0cf250d",
   "metadata": {},
   "outputs": [
    {
     "name": "stdout",
     "output_type": "stream",
     "text": [
      "[0, 1]\n"
     ]
    }
   ],
   "source": [
    "from typing import List\n",
    "\n",
    "class Solution:\n",
    "    def twoSumIndices(self, nums: List[int], target: int) -> List[int]:\n",
    "        left = 0\n",
    "        right = len(nums) - 1\n",
    "        \n",
    "        while left < right:\n",
    "            current_sum = nums[left] + nums[right]\n",
    "            \n",
    "            if current_sum < target:\n",
    "                left += 1\n",
    "            elif current_sum > target:\n",
    "                right -= 1\n",
    "            else:\n",
    "                return [left, right]\n",
    "            \n",
    "        return []\n",
    "\n",
    "solution = Solution()\n",
    "print(solution.twoSumIndices([2, 7, 11, 15], 9))\n"
   ]
  },
  {
   "cell_type": "code",
   "execution_count": 3,
   "id": "81d0de6c",
   "metadata": {},
   "outputs": [
    {
     "name": "stdout",
     "output_type": "stream",
     "text": [
      "[0, 1]\n"
     ]
    }
   ],
   "source": [
    "## using dictionary to solve it efficiently\n",
    "\n",
    "def twoSum(nums, target):\n",
    "    num_map = {}  # Dictionary to store numbers and their indices\n",
    "\n",
    "    for i, num in enumerate(nums):\n",
    "        complement = target - num\n",
    "        if complement in num_map:\n",
    "            return [num_map[complement], i]\n",
    "        num_map[num] = i\n",
    "\n",
    "    return []  # If no solution is found\n",
    "\n",
    "# Example usage:\n",
    "nums = [2, 7, 11, 15]\n",
    "target = 9\n",
    "result = twoSum(nums, target)\n",
    "print(result)\n"
   ]
  },
  {
   "cell_type": "markdown",
   "id": "f7f464e5",
   "metadata": {},
   "source": [
    "\n",
    "💡 **Q2.** Given an integer array nums and an integer val, remove all occurrences of val in nums in-place. The order of the elements may be changed. Then return the number of elements in nums which are not equal to val.\n",
    "\n",
    "Consider the number of elements in nums which are not equal to val be k, to get accepted, you need to do the following things:\n",
    "\n",
    "- Change the array nums such that the first k elements of nums contain the elements which are not equal to val. The remaining elements of nums are not important as well as the size of nums.\n",
    "- Return k.\n",
    "\n",
    "**Example :**\n",
    "Input: nums = [3,2,2,3], val = 3\n",
    "Output: 2, nums = [2,2,_*,_*]\n",
    "\n",
    "**Explanation:** Your function should return k = 2, with the first two elements of nums being 2. It does not matter what you leave beyond the returned k (hence they are underscores\n",
    "\n"
   ]
  },
  {
   "cell_type": "code",
   "execution_count": 9,
   "id": "11f153f0",
   "metadata": {},
   "outputs": [
    {
     "name": "stdout",
     "output_type": "stream",
     "text": [
      "2 [2, 2, '_', '_']\n"
     ]
    }
   ],
   "source": [
    "from typing import List\n",
    "\n",
    "class Solution:\n",
    "    def removeElement(self, nums: List[int], val: int) -> int:\n",
    "        k = 0  # Represents the number of elements not equal to val\n",
    "\n",
    "        for i in range(len(nums)):\n",
    "            if nums[i] != val:\n",
    "                nums[k] = nums[i]\n",
    "                k += 1\n",
    "\n",
    "        return k\n",
    "\n",
    "# Example usage:\n",
    "solution = Solution()\n",
    "nums = [3, 2, 2, 3]\n",
    "val = 3\n",
    "k = solution.removeElement(nums, val)\n",
    "print(k, nums[:k] + ['_'] * (len(nums) - k))\n"
   ]
  },
  {
   "cell_type": "markdown",
   "id": "7feaa422",
   "metadata": {},
   "source": [
    "\n",
    "💡 **Q3.** Given a sorted array of distinct integers and a target value, return the index if the target is found. If not, return the index where it would be if it were inserted in order.\n",
    "\n",
    "You must write an algorithm with O(log n) runtime complexity.\n",
    "\n",
    "**Example 1:**\n",
    "Input: nums = [1,3,5,6], target = 5\n",
    "\n",
    "Output: 2\n"
   ]
  },
  {
   "cell_type": "code",
   "execution_count": 11,
   "id": "f0e289cc",
   "metadata": {},
   "outputs": [
    {
     "name": "stdout",
     "output_type": "stream",
     "text": [
      "2\n"
     ]
    }
   ],
   "source": [
    "## With O(log n) runtime complexity, we can use the Binary Search algorithm\n",
    "## Input is sorted is Array \n",
    "from typing import List\n",
    "\n",
    "class Solution:\n",
    "    def searchInsert(self, nums: List[int], target: int) -> int:\n",
    "        left, right = 0, len(nums) - 1\n",
    "        \n",
    "        while left <= right:\n",
    "            mid = left + (right - left) // 2\n",
    "            \n",
    "            if nums[mid] == target:\n",
    "                return mid\n",
    "            elif nums[mid] < target:\n",
    "                left = mid + 1\n",
    "            else:\n",
    "                right = mid - 1\n",
    "        \n",
    "        return left\n",
    "\n",
    "\n",
    "solution = Solution()\n",
    "nums = [1, 3, 5, 6]\n",
    "target = 5\n",
    "result = solution.searchInsert(nums, target)\n",
    "print(result)\n",
    "\n",
    "        "
   ]
  },
  {
   "cell_type": "markdown",
   "id": "cfb7d18e",
   "metadata": {},
   "source": [
    "\n",
    "💡 **Q4.** You are given a large integer represented as an integer array digits, where each digits[i] is the ith digit of the integer. The digits are ordered from most significant to least significant in left-to-right order. The large integer does not contain any leading 0's.\n",
    "\n",
    "Increment the large integer by one and return the resulting array of digits.\n",
    "\n",
    "**Example 1:**\n",
    "Input: digits = [1,2,3]\n",
    "Output: [1,2,4]\n",
    "\n",
    "**Explanation:** The array represents the integer 123.\n",
    "\n",
    "Incrementing by one gives 123 + 1 = 124.\n",
    "Thus, the result should be [1,2,4].\n"
   ]
  },
  {
   "cell_type": "code",
   "execution_count": 13,
   "id": "ba0d4d65",
   "metadata": {},
   "outputs": [
    {
     "name": "stdout",
     "output_type": "stream",
     "text": [
      "[1, 2, 4]\n"
     ]
    }
   ],
   "source": [
    "from typing import List\n",
    "\n",
    "class Solution:\n",
    "    def plusOne(self, digits: List[int]) -> List[int]:\n",
    "        carry = 1\n",
    "        for i in range(len(digits)-1, -1, -1):\n",
    "            digits[i] += carry\n",
    "            if digits[i] <= 9:\n",
    "                carry = 0\n",
    "                break\n",
    "            digits[i] = 0\n",
    "        \n",
    "        if carry == 1:\n",
    "            digits.insert(0, 1)\n",
    "        \n",
    "        return digits\n",
    "\n",
    "\n",
    "solution = Solution()\n",
    "digits = [1, 2, 3]\n",
    "result = solution.plusOne(digits)\n",
    "print(result)\n"
   ]
  },
  {
   "cell_type": "markdown",
   "id": "d5b5d1ad",
   "metadata": {},
   "source": [
    "\n",
    "💡 **Q5.** You are given two integer arrays nums1 and nums2, sorted in non-decreasing order, and two integers m and n, representing the number of elements in nums1 and nums2 respectively.\n",
    "\n",
    "Merge nums1 and nums2 into a single array sorted in non-decreasing order.\n",
    "\n",
    "The final sorted array should not be returned by the function, but instead be stored inside the array nums1. To accommodate this, nums1 has a length of m + n, where the first m elements denote the elements that should be merged, and the last n elements are set to 0 and should be ignored. nums2 has a length of n.\n",
    "\n",
    "**Example 1:**\n",
    "Input: nums1 = [1,2,3,0,0,0], m = 3, nums2 = [2,5,6], n = 3\n",
    "Output: [1,2,2,3,5,6]\n",
    "\n",
    "**Explanation:** The arrays we are merging are [1,2,3] and [2,5,6].\n",
    "The result of the merge is [1,2,2,3,5,6] with the underlined elements coming from nums1.\n",
    "\n"
   ]
  },
  {
   "cell_type": "code",
   "execution_count": 16,
   "id": "a49a5580",
   "metadata": {},
   "outputs": [
    {
     "name": "stdout",
     "output_type": "stream",
     "text": [
      "Final Sorted Array is [1, 2, 2, 3, 5, 6]\n"
     ]
    }
   ],
   "source": [
    "# code using the Merge Sort approach\n",
    "class ArrayMerger:\n",
    "    def mergeArrays(self, nums1, m, nums2, n):\n",
    "        merged = [0] * (m + n)  # Initialize a new array to store the merged result\n",
    "        p1, p2, p = 0, 0, 0  # Pointers for nums1, nums2, and merged array respectively\n",
    "\n",
    "        while p1 < m and p2 < n:\n",
    "            if nums1[p1] <= nums2[p2]:\n",
    "                merged[p] = nums1[p1]\n",
    "                p1 += 1\n",
    "            else:\n",
    "                merged[p] = nums2[p2]\n",
    "                p2 += 1\n",
    "            p += 1\n",
    "\n",
    "        # Copy the remaining elements from nums1, if any\n",
    "        while p1 < m:\n",
    "            merged[p] = nums1[p1]\n",
    "            p1 += 1\n",
    "            p += 1\n",
    "\n",
    "        # Copy the remaining elements from nums2, if any\n",
    "        while p2 < n:\n",
    "            merged[p] = nums2[p2]\n",
    "            p2 += 1\n",
    "            p += 1\n",
    "\n",
    "        return merged\n",
    "\n",
    "# Example usage:\n",
    "merger = ArrayMerger()\n",
    "nums1 = [1, 2, 3, 0, 0, 0]\n",
    "m = 3\n",
    "nums2 = [2, 5, 6]\n",
    "n = 3\n",
    "result = merger.mergeArrays(nums1, m, nums2, n)\n",
    "print(\"Final Sorted Array is\", result)\n"
   ]
  },
  {
   "cell_type": "markdown",
   "id": "8d3a2fa3",
   "metadata": {},
   "source": [
    "\n",
    "💡 **Q6.** Given an integer array nums, return true if any value appears at least twice in the array, and return false if every element is distinct.\n",
    "\n",
    "**Example 1:**\n",
    "Input: nums = [1,2,3,1]\n",
    "\n",
    "Output: true\n",
    "\n"
   ]
  },
  {
   "cell_type": "code",
   "execution_count": 17,
   "id": "619240b3",
   "metadata": {},
   "outputs": [
    {
     "name": "stdout",
     "output_type": "stream",
     "text": [
      "True\n"
     ]
    }
   ],
   "source": [
    "class Solution:\n",
    "    def containsDuplicate(self, nums):\n",
    "        seen = set()\n",
    "        for num in nums:\n",
    "            if num in seen:\n",
    "                return True\n",
    "            seen.add(num)\n",
    "        return False\n",
    "\n",
    "solution = Solution()\n",
    "nums = [1, 2, 3, 1]\n",
    "result = solution.containsDuplicate(nums)\n",
    "print(result)\n"
   ]
  },
  {
   "cell_type": "markdown",
   "id": "b5a7b16d",
   "metadata": {},
   "source": [
    "\n",
    "💡 **Q7.** Given an integer array nums, move all 0's to the end of it while maintaining the relative order of the nonzero elements.\n",
    "\n",
    "Note that you must do this in-place without making a copy of the array.\n",
    "\n",
    "**Example 1:**\n",
    "Input: nums = [0,1,0,3,12]\n",
    "Output: [1,3,12,0,0]\n",
    "\n"
   ]
  },
  {
   "cell_type": "code",
   "execution_count": 18,
   "id": "7751b4f8",
   "metadata": {},
   "outputs": [
    {
     "name": "stdout",
     "output_type": "stream",
     "text": [
      "[1, 3, 12, 0, 0]\n"
     ]
    }
   ],
   "source": [
    "class Solution:\n",
    "    def moveZeroes(self, nums):\n",
    "        left = 0  # Pointer to track the last non-zero element\n",
    "\n",
    "        # Iterate through the array using the right pointer\n",
    "        for right in range(len(nums)):\n",
    "            if nums[right] != 0:\n",
    "                # If the element is non-zero, move it to the left pointer's position\n",
    "                nums[left] = nums[right]\n",
    "                left += 1\n",
    "\n",
    "        # Fill the remaining positions from the left pointer with zeros\n",
    "        while left < len(nums):\n",
    "            nums[left] = 0\n",
    "            left += 1\n",
    "\n",
    "\n",
    "solution = Solution()\n",
    "nums = [0, 1, 0, 3, 12]\n",
    "solution.moveZeroes(nums)\n",
    "print(nums)\n"
   ]
  },
  {
   "cell_type": "markdown",
   "id": "24d79973",
   "metadata": {},
   "source": [
    "\n",
    "💡 **Q8.** You have a set of integers s, which originally contains all the numbers from 1 to n. Unfortunately, due to some error, one of the numbers in s got duplicated to another number in the set, which results in repetition of one number and loss of another number.\n",
    "\n",
    "You are given an integer array nums representing the data status of this set after the error.\n",
    "\n",
    "Find the number that occurs twice and the number that is missing and return them in the form of an array.\n",
    "\n",
    "**Example 1:**\n",
    "Input: nums = [1,2,2,4]\n",
    "Output: [2,3]\n"
   ]
  },
  {
   "cell_type": "code",
   "execution_count": 21,
   "id": "181fec18",
   "metadata": {},
   "outputs": [
    {
     "name": "stdout",
     "output_type": "stream",
     "text": [
      "[2, 3]\n"
     ]
    }
   ],
   "source": [
    "#Using Sorting approach\n",
    "class Solution:\n",
    "    def findErrorNums(self, nums):\n",
    "        nums.sort()  # Sort the array in ascending order\n",
    "        duplicate, missing = -1, -1  # Variables to track the duplicate and missing numbers\n",
    "        \n",
    "        for i in range(1, len(nums)):\n",
    "            if nums[i] == nums[i-1]:  # Duplicate number found\n",
    "                duplicate = nums[i]\n",
    "            elif nums[i] > nums[i-1] + 1:  # Missing number found\n",
    "                missing = nums[i-1] + 1\n",
    "        \n",
    "        if nums[-1] != len(nums):  # Check if the last element is missing\n",
    "            missing = len(nums)\n",
    "        \n",
    "        return [duplicate, missing]\n",
    "\n",
    "# Example usage:\n",
    "solution = Solution()\n",
    "nums = [1, 2, 2, 4]\n",
    "result = solution.findErrorNums(nums)\n",
    "print(result)\n"
   ]
  },
  {
   "cell_type": "code",
   "execution_count": null,
   "id": "9e6aab2c",
   "metadata": {},
   "outputs": [],
   "source": []
  }
 ],
 "metadata": {
  "kernelspec": {
   "display_name": "Python 3 (ipykernel)",
   "language": "python",
   "name": "python3"
  },
  "language_info": {
   "codemirror_mode": {
    "name": "ipython",
    "version": 3
   },
   "file_extension": ".py",
   "mimetype": "text/x-python",
   "name": "python",
   "nbconvert_exporter": "python",
   "pygments_lexer": "ipython3",
   "version": "3.10.9"
  }
 },
 "nbformat": 4,
 "nbformat_minor": 5
}
